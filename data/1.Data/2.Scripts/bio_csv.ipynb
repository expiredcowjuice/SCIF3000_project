{
 "cells": [
  {
   "cell_type": "code",
   "execution_count": 2,
   "metadata": {},
   "outputs": [
    {
     "name": "stdout",
     "output_type": "stream",
     "text": [
      "['bio_species_list_public_2024-10-21T22_40_03.600132+08_00.csv', 'bio_species_list_public_2024-10-21T22_45_22.352800+08_00.csv', 'bio_species_list_public_2024-10-21T22_41_31.671459+08_00.csv', 'bio_species_list_public_2024-10-21T22_42_02.350514+08_00.csv', 'bio_species_list_public_2024-10-21T22_40_18.793674+08_00.csv', 'bio_species_list_public_2024-10-21T22_41_48.506633+08_00.csv', 'bio_species_list_public_2024-10-21T22_41_13.029254+08_00.csv', 'bio_species_list_public_2024-10-21T22_39_37.413156+08_00.csv', 'bio_species_list_public_2024-10-21T22_40_54.058960+08_00.csv', 'bio_species_list_public_2024-10-21T22_40_40.188248+08_00.csv']\n"
     ]
    }
   ],
   "source": [
    "import os\n",
    "\n",
    "csv_files = []\n",
    "for file in os.listdir('data'):\n",
    "    if file.endswith('.csv'):\n",
    "        csv_files.append(file)\n",
    "\n",
    "print(csv_files)"
   ]
  },
  {
   "cell_type": "code",
   "execution_count": 4,
   "metadata": {},
   "outputs": [
    {
     "data": {
      "text/plain": [
       "True"
      ]
     },
     "execution_count": 4,
     "metadata": {},
     "output_type": "execute_result"
    }
   ],
   "source": [
    "deposits = ['Mt Holland (Earl Grey)', 'Mt Marion', 'Mt Thirsty', 'NiWest', 'Nova-Bollinger', 'Pilgangoora', 'Savannah', 'Wilconi', 'Wingellina', 'Wodgina']\n",
    "\n",
    "len(deposits) == len(csv_files)"
   ]
  },
  {
   "cell_type": "code",
   "execution_count": 10,
   "metadata": {},
   "outputs": [
    {
     "name": "stdout",
     "output_type": "stream",
     "text": [
      "bio_species_list_public_2024-10-21T22_39_37.413156+08_00.csv\n",
      "bio_species_list_public_2024-10-21T22_40_03.600132+08_00.csv\n",
      "bio_species_list_public_2024-10-21T22_40_18.793674+08_00.csv\n",
      "bio_species_list_public_2024-10-21T22_40_40.188248+08_00.csv\n",
      "bio_species_list_public_2024-10-21T22_40_54.058960+08_00.csv\n",
      "bio_species_list_public_2024-10-21T22_41_13.029254+08_00.csv\n",
      "bio_species_list_public_2024-10-21T22_41_31.671459+08_00.csv\n",
      "bio_species_list_public_2024-10-21T22_41_48.506633+08_00.csv\n",
      "bio_species_list_public_2024-10-21T22_42_02.350514+08_00.csv\n",
      "bio_species_list_public_2024-10-21T22_45_22.352800+08_00.csv\n",
      "Processed all CSV files and saved results to output_combined.xlsx\n"
     ]
    }
   ],
   "source": [
    "import pandas as pd\n",
    "import openpyxl\n",
    "\n",
    "csv_files = sorted(csv_files)\n",
    "\n",
    "# Create the output filename\n",
    "output_filename = \"output_combined.xlsx\"\n",
    "\n",
    "# Create a new Excel workbook\n",
    "workbook = openpyxl.Workbook()\n",
    "sheet = workbook.active\n",
    "sheet.title = \"Combined Data\"\n",
    "\n",
    "# Write the header\n",
    "sheet.append([\"Deposit\", \"CSV Length (minus header)\", \"First Column Values\"])\n",
    "\n",
    "for csv_file, deposit in zip(csv_files, deposits):\n",
    "    with open(os.path.join('data', csv_file), 'r') as file:\n",
    "        print(csv_file)\n",
    "        csv_content = file.readlines()\n",
    "        \n",
    "        # Calculate length of CSV minus one\n",
    "        csv_length = len(csv_content) - 1\n",
    "        \n",
    "        # String join the first column, skipping the first record\n",
    "        first_column = ','.join([line.split(',')[0] for line in csv_content[1:]])\n",
    "        \n",
    "        # Append the results to the Excel sheet\n",
    "        sheet.append([deposit, csv_length, first_column])\n",
    "\n",
    "# Save the workbook\n",
    "workbook.save(os.path.join('data', output_filename))\n",
    "\n",
    "print(f\"Processed all CSV files and saved results to {output_filename}\")"
   ]
  },
  {
   "cell_type": "code",
   "execution_count": 8,
   "metadata": {},
   "outputs": [
    {
     "data": {
      "text/plain": [
       "['bio_species_list_public_2024-10-21T22_39_37.413156+08_00.csv',\n",
       " 'bio_species_list_public_2024-10-21T22_40_03.600132+08_00.csv',\n",
       " 'bio_species_list_public_2024-10-21T22_40_18.793674+08_00.csv',\n",
       " 'bio_species_list_public_2024-10-21T22_40_40.188248+08_00.csv',\n",
       " 'bio_species_list_public_2024-10-21T22_40_54.058960+08_00.csv',\n",
       " 'bio_species_list_public_2024-10-21T22_41_13.029254+08_00.csv',\n",
       " 'bio_species_list_public_2024-10-21T22_41_31.671459+08_00.csv',\n",
       " 'bio_species_list_public_2024-10-21T22_41_48.506633+08_00.csv',\n",
       " 'bio_species_list_public_2024-10-21T22_42_02.350514+08_00.csv',\n",
       " 'bio_species_list_public_2024-10-21T22_45_22.352800+08_00.csv']"
      ]
     },
     "execution_count": 8,
     "metadata": {},
     "output_type": "execute_result"
    }
   ],
   "source": [
    "csv_files"
   ]
  }
 ],
 "metadata": {
  "kernelspec": {
   "display_name": "base",
   "language": "python",
   "name": "python3"
  },
  "language_info": {
   "codemirror_mode": {
    "name": "ipython",
    "version": 3
   },
   "file_extension": ".py",
   "mimetype": "text/x-python",
   "name": "python",
   "nbconvert_exporter": "python",
   "pygments_lexer": "ipython3",
   "version": "3.9.12"
  }
 },
 "nbformat": 4,
 "nbformat_minor": 2
}
